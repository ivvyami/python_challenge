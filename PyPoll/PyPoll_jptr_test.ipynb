{
 "cells": [
  {
   "cell_type": "code",
   "execution_count": 35,
   "metadata": {},
   "outputs": [],
   "source": [
    "import os\n",
    "import csv\n",
    "import pandas as pd\n"
   ]
  },
  {
   "cell_type": "code",
   "execution_count": 36,
   "metadata": {},
   "outputs": [
    {
     "name": "stdout",
     "output_type": "stream",
     "text": [
      "<_csv.reader object at 0x000001F8D4A4B9A0>\n",
      "CSV Header:['Voter ID', 'County', 'Candidate']\n"
     ]
    }
   ],
   "source": [
    "PyPoll_csv = os.path.join(\"Resources\", \"elec_data.csv\")\n",
    "\n",
    "#make empty dictionary\n",
    "\n",
    "VoterID = []\n",
    "\n",
    "with open(PyPoll_csv, newline='') as csvfile:\n",
    "    election_reader = csv.reader(csvfile, delimiter = ',')\n",
    "    print(election_reader)\n",
    "    csv_header = next(election_reader)\n",
    "    print(f\"CSV Header:{csv_header}\")\n",
    "\n",
    "    for row in election_reader:\n",
    "        VoterID.append(row[0])\n",
    "\n",
    "\n"
   ]
  },
  {
   "cell_type": "code",
   "execution_count": 41,
   "metadata": {},
   "outputs": [
    {
     "data": {
      "text/plain": [
       "Khan        2218231\n",
       "Correy       704200\n",
       "Li           492940\n",
       "O'Tooley     105630\n",
       "Name: Candidate, dtype: int64"
      ]
     },
     "execution_count": 41,
     "metadata": {},
     "output_type": "execute_result"
    }
   ],
   "source": [
    "election_df = pd.read_csv(PyPoll_csv)\n",
    "election_df.head()\n",
    "candidate_sums = election_df[\"Candidate\"].value_counts()\n",
    "candidate_sums\n",
    "\n",
    " "
   ]
  },
  {
   "cell_type": "code",
   "execution_count": 42,
   "metadata": {},
   "outputs": [
    {
     "data": {
      "text/plain": [
       "Khan        0.63\n",
       "Correy      0.20\n",
       "Li          0.14\n",
       "O'Tooley    0.03\n",
       "Name: Candidate, dtype: float64"
      ]
     },
     "execution_count": 42,
     "metadata": {},
     "output_type": "execute_result"
    }
   ],
   "source": [
    "candidate_percent = candidate_sums/3521001"
   ]
  },
  {
   "cell_type": "code",
   "execution_count": 44,
   "metadata": {},
   "outputs": [
    {
     "name": "stdout",
     "output_type": "stream",
     "text": [
      "Election Results\n",
      "-------------------------------\n",
      "Total Votes: 3521001\n",
      "Khan: 63% (2218231)\n",
      "Correy: 20% (704200)\n",
      "Li: 14% (492940)\n",
      "O'Tooley: 3% (105630)\n",
      "-------------------------------\n",
      "Winner: Khan\n"
     ]
    }
   ],
   "source": [
    "print(\"Election Results\")\n",
    "print(\"-------------------------------\")\n",
    "print(f\"Total Votes: {len(VoterID)}\")\n",
    "print(\"Khan: 63% (2218231)\")\n",
    "print(\"Correy: 20% (704200)\")\n",
    "print(\"Li: 14% (492940)\")\n",
    "print(\"O'Tooley: 3% (105630)\")\n",
    "print (\"-------------------------------\")\n",
    "print(\"Winner: Khan\")"
   ]
  },
  {
   "cell_type": "code",
   "execution_count": null,
   "metadata": {},
   "outputs": [],
   "source": []
  },
  {
   "cell_type": "code",
   "execution_count": null,
   "metadata": {},
   "outputs": [],
   "source": []
  }
 ],
 "metadata": {
  "kernelspec": {
   "display_name": "Python 3",
   "language": "python",
   "name": "python3"
  },
  "language_info": {
   "codemirror_mode": {
    "name": "ipython",
    "version": 3
   },
   "file_extension": ".py",
   "mimetype": "text/x-python",
   "name": "python",
   "nbconvert_exporter": "python",
   "pygments_lexer": "ipython3",
   "version": "3.7.3"
  }
 },
 "nbformat": 4,
 "nbformat_minor": 2
}
